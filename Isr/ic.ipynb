{
 "cells": [
  {
   "cell_type": "code",
   "execution_count": 28,
   "metadata": {},
   "outputs": [
    {
     "name": "stderr",
     "output_type": "stream",
     "text": [
      "/var/folders/j7/_7qghq8j2_ndh4r1lcnz_gz00000gn/T/ipykernel_37716/664159663.py:8: MatplotlibDeprecationWarning: Directly reading images from URLs is deprecated since 3.4 and will no longer be supported two minor releases later. Please open the URL for reading and pass the result to Pillow, e.g. with ``np.array(PIL.Image.open(urllib.request.urlopen(url)))``.\n",
      "  A = imread.imread('https://images.fineartamerica.com/images/artworkimages/medium/2/portrait-of-an-aggressive-bengal-tiger-empphotography.jpg')    # A is a numpy array\n"
     ]
    },
    {
     "ename": "SyntaxError",
     "evalue": "not a PNG file (<string>)",
     "output_type": "error",
     "traceback": [
      "Traceback \u001b[0;36m(most recent call last)\u001b[0m:\n",
      "  File \u001b[1;32m~/Library/Python/3.8/lib/python/site-packages/IPython/core/interactiveshell.py:3398\u001b[0m in \u001b[1;35mrun_code\u001b[0m\n    exec(code_obj, self.user_global_ns, self.user_ns)\n",
      "  Input \u001b[1;32mIn [28]\u001b[0m in \u001b[1;35m<cell line: 8>\u001b[0m\n    A = imread.imread('https://images.fineartamerica.com/images/artworkimages/medium/2/portrait-of-an-aggressive-bengal-tiger-empphotography.jpg')    # A is a numpy array\n",
      "  File \u001b[1;32m~/Library/Python/3.8/lib/python/site-packages/matplotlib/image.py:1559\u001b[0m in \u001b[1;35mimread\u001b[0m\n    return imread(response, format=ext)\n",
      "  File \u001b[1;32m~/Library/Python/3.8/lib/python/site-packages/matplotlib/image.py:1560\u001b[0m in \u001b[1;35mimread\u001b[0m\n    with img_open(fname) as image:\n",
      "  File \u001b[1;32m~/Library/Python/3.8/lib/python/site-packages/PIL/ImageFile.py:116\u001b[0m in \u001b[1;35m__init__\u001b[0m\n    self._open()\n",
      "\u001b[0;36m  File \u001b[0;32m~/Library/Python/3.8/lib/python/site-packages/PIL/PngImagePlugin.py:712\u001b[0;36m in \u001b[0;35m_open\u001b[0;36m\u001b[0m\n\u001b[0;31m    raise SyntaxError(\"not a PNG file\")\u001b[0m\n",
      "\u001b[0;36m  File \u001b[0;32m<string>\u001b[0;36m\u001b[0m\n\u001b[0;31mSyntaxError\u001b[0m\u001b[0;31m:\u001b[0m not a PNG file\n"
     ]
    }
   ],
   "source": [
    "import matplotlib.image as imread\n",
    "import matplotlib.pyplot as plt\n",
    "import numpy as np\n",
    "import os\n",
    "\n",
    "plt.rcParams['figure.figsize'] = [16, 8] # set default size of plots\n",
    "\n",
    "A = imread.imread('https://images.fineartamerica.com/images/artworkimages/medium/2/portrait-of-an-aggressive-bengal-tiger-empphotography.jpg')    # A is a numpy array\n",
    "X = np.mean(A, -1) # average over the last axis\n",
    "\n",
    "img = plt.imshow(256-X) # plot the image\n",
    "img.set_cmap('gray') # use gray colormap\n",
    "plt.axis('off') # no axis\n",
    "plt.show() # display the image\n"
   ]
  },
  {
   "cell_type": "code",
   "execution_count": null,
   "metadata": {},
   "outputs": [],
   "source": []
  }
 ],
 "metadata": {
  "kernelspec": {
   "display_name": "Python 3.8.9 64-bit",
   "language": "python",
   "name": "python3"
  },
  "language_info": {
   "codemirror_mode": {
    "name": "ipython",
    "version": 3
   },
   "file_extension": ".py",
   "mimetype": "text/x-python",
   "name": "python",
   "nbconvert_exporter": "python",
   "pygments_lexer": "ipython3",
   "version": "3.8.9"
  },
  "orig_nbformat": 4,
  "vscode": {
   "interpreter": {
    "hash": "31f2aee4e71d21fbe5cf8b01ff0e069b9275f58929596ceb00d14d90e3e16cd6"
   }
  }
 },
 "nbformat": 4,
 "nbformat_minor": 2
}
